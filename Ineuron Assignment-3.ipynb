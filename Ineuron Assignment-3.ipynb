{
 "cells": [
  {
   "cell_type": "markdown",
   "id": "06e774db",
   "metadata": {},
   "source": [
    "##   Ineuron Python Assignment-3 "
   ]
  },
  {
   "cell_type": "markdown",
   "id": "1177a81c",
   "metadata": {},
   "source": [
    "### 1.1 Write a Python Program to implement your own myreduce( ) function which works exactly like Python's built-in function reduce( )"
   ]
  },
  {
   "cell_type": "markdown",
   "id": "67904611",
   "metadata": {},
   "source": [
    "#### Solution: "
   ]
  },
  {
   "cell_type": "markdown",
   "id": "ca0e78a6",
   "metadata": {},
   "source": [
    "* A python program of myreduce function for Multiplication is written below:"
   ]
  },
  {
   "cell_type": "code",
   "execution_count": 64,
   "id": "cbe1aa40",
   "metadata": {},
   "outputs": [],
   "source": [
    "lst=[10,25,35,45,55]"
   ]
  },
  {
   "cell_type": "code",
   "execution_count": 65,
   "id": "3d06f7b4",
   "metadata": {},
   "outputs": [
    {
     "name": "stdout",
     "output_type": "stream",
     "text": [
      "21656250\n"
     ]
    }
   ],
   "source": [
    "def myreduce(multi,lst):\n",
    "    return a\n",
    "def multi(a,b):\n",
    "    return a*b\n",
    "a=lst[0]\n",
    "for i in range(1,len(lst)):\n",
    "    b=lst[i]\n",
    "    a=addition(a,b)\n",
    "print(myreduce(multi,lst))"
   ]
  },
  {
   "cell_type": "markdown",
   "id": "538a4dc3",
   "metadata": {},
   "source": [
    "the above myreduce function is similar to python's bulit-in function reduce() as shown below:"
   ]
  },
  {
   "cell_type": "code",
   "execution_count": 66,
   "id": "c276b45c",
   "metadata": {},
   "outputs": [],
   "source": [
    "from functools import reduce"
   ]
  },
  {
   "cell_type": "code",
   "execution_count": 68,
   "id": "4898fc2a",
   "metadata": {},
   "outputs": [
    {
     "data": {
      "text/plain": [
       "21656250"
      ]
     },
     "execution_count": 68,
     "metadata": {},
     "output_type": "execute_result"
    }
   ],
   "source": [
    "reduce(multi,lst)"
   ]
  },
  {
   "cell_type": "markdown",
   "id": "1206c17a",
   "metadata": {},
   "source": [
    "### 1.2 Write a Python program to implement your own myfilter( ) function which works exactly like Python's built-in function filter( )\n"
   ]
  },
  {
   "cell_type": "markdown",
   "id": "647c4191",
   "metadata": {},
   "source": [
    "#### Solution:"
   ]
  },
  {
   "cell_type": "markdown",
   "id": "ff53d50b",
   "metadata": {},
   "source": [
    "* Python program of myfilter() for both even and odd is written below:"
   ]
  },
  {
   "cell_type": "markdown",
   "id": "b5f25bbd",
   "metadata": {},
   "source": [
    "### Even"
   ]
  },
  {
   "cell_type": "code",
   "execution_count": 84,
   "id": "17693b19",
   "metadata": {},
   "outputs": [],
   "source": [
    "lst1=[2,3,4,5,6,7,8,9,10]"
   ]
  },
  {
   "cell_type": "code",
   "execution_count": 85,
   "id": "09f5140a",
   "metadata": {},
   "outputs": [
    {
     "name": "stdout",
     "output_type": "stream",
     "text": [
      "[2, 4, 6, 8, 10]\n"
     ]
    }
   ],
   "source": [
    "def myfilter(even,lst1):\n",
    "    return even(a)\n",
    "lst2=[]\n",
    "def even(a):\n",
    "    for i in lst1:\n",
    "        if i%2==0:\n",
    "            lst2.append(i)\n",
    "    print(lst2)\n",
    "myfilter(even,lst1)"
   ]
  },
  {
   "cell_type": "code",
   "execution_count": 86,
   "id": "a69c13d4",
   "metadata": {},
   "outputs": [
    {
     "data": {
      "text/plain": [
       "[2, 4, 6, 8, 10]"
      ]
     },
     "execution_count": 86,
     "metadata": {},
     "output_type": "execute_result"
    }
   ],
   "source": [
    "def even(a):\n",
    "    if a%2==0:\n",
    "        return True\n",
    "list(filter(even,lst1))"
   ]
  },
  {
   "cell_type": "markdown",
   "id": "c5f94159",
   "metadata": {},
   "source": [
    "### Odd"
   ]
  },
  {
   "cell_type": "code",
   "execution_count": 73,
   "id": "2ec0d88f",
   "metadata": {},
   "outputs": [
    {
     "name": "stdout",
     "output_type": "stream",
     "text": [
      "[3, 5, 7, 9]\n"
     ]
    }
   ],
   "source": [
    "def myfilter(odd,lst1):\n",
    "    return odd(a)\n",
    "lst2=[]\n",
    "def odd(a):\n",
    "    for i in lst1:\n",
    "        if i%2!=0:\n",
    "            lst2.append(i)\n",
    "    print(lst2)\n",
    "myfilter(odd,lst1)"
   ]
  },
  {
   "cell_type": "code",
   "execution_count": 87,
   "id": "8c0a76b6",
   "metadata": {},
   "outputs": [
    {
     "data": {
      "text/plain": [
       "[3, 5, 7, 9]"
      ]
     },
     "execution_count": 87,
     "metadata": {},
     "output_type": "execute_result"
    }
   ],
   "source": [
    "def odd(a):\n",
    "    if a%2!=0:\n",
    "        return True\n",
    "list(filter(odd,lst1))"
   ]
  },
  {
   "cell_type": "markdown",
   "id": "d61e620a",
   "metadata": {},
   "source": [
    "### 2. Implement List comprehensions to produce the following lists. \n",
    "Write List comprehensions to produce the following Lists\n",
    "['A', 'C', 'A', 'D', 'G', 'I', ’L’, ‘ D’]\n",
    "\n",
    "['x', 'xx', 'xxx', 'xxxx', 'y', 'yy', 'yyy', 'yyyy', 'z', 'zz', 'zzz', 'zzzz']\n",
    "\n",
    "['x', 'y', 'z', 'xx', 'yy', 'zz', 'xxx', 'yyy', 'zzz', 'xxxx', 'yyyy', 'zzzz']\n",
    "\n",
    "[[2], [3], [4], [3], [4], [5], [4], [5], [6]] [[2, 3, 4, 5], [3, 4, 5, 6], \n",
    "[4, 5, 6, 7], [5, 6, 7, 8]]\n",
    "\n",
    "[(1, 1), (2, 1), (3, 1), (1, 2), (2, 2), (3, 2), (1, 3), (2, 3), (3, 3)]"
   ]
  },
  {
   "cell_type": "markdown",
   "id": "6ad938f4",
   "metadata": {},
   "source": [
    "#### Solution:"
   ]
  },
  {
   "cell_type": "code",
   "execution_count": 90,
   "id": "d760e19b",
   "metadata": {},
   "outputs": [
    {
     "name": "stdout",
     "output_type": "stream",
     "text": [
      "Output:\n",
      "['A', 'C', 'A', 'D', 'G', 'I', 'L', 'D']\n",
      "['x', 'xx', 'xxx', 'xxxx', 'y', 'yy', 'yyy', 'yyyy', 'z', 'zz', 'zzz', 'zzzz']\n",
      "['x', 'y', 'z', 'xx', 'yy', 'zz', 'xxx', 'yyy', 'zzz', 'xxxx', 'yyyy', 'zzzz']\n",
      "[[2], [3], [4], [3], [4], [5], [4], [5], [6]]\n",
      "[[2, 3, 4, 5], [3, 4, 5, 6], [4, 5, 6, 7], [5, 6, 7, 8]]\n",
      "[(1, 1), (2, 1), (3, 1), (1, 2), (2, 2), (3, 2), (1, 3), (2, 3), (3, 3)]\n"
     ]
    }
   ],
   "source": [
    "#Section-1\n",
    "word=\"AcadGild\"\n",
    "#list Comprehension\n",
    "output_list=[w.upper() for w in list(word)]\n",
    "print(\"Output:\")\n",
    "print(output_list)\n",
    "\n",
    "#Section-2\n",
    "word_1=list('xyz')\n",
    "word_2=[x*n for x in word_1 for n in range(1,5) ]\n",
    "print(word_2)\n",
    "\n",
    "#Section-3\n",
    "word_3=[x*n for n in range(1,5) for x in word_1 ]\n",
    "print(word_3)\n",
    "\n",
    "#Section-4\n",
    "number=[2,3,4]\n",
    "number_1=[[x+n] for x in number for n in range(0,3)]\n",
    "print(number_1)\n",
    "\n",
    "#Section-5\n",
    "number_2=[2,3,4,5]\n",
    "number_3=[[x+n for n in range(0,4)] for x in number_2 ]\n",
    "print(number_3)\n",
    "\n",
    "#Section 6\n",
    "number_4=[1,2,3]\n",
    "number_5= [(b,a) for a in number_4 for b in number_4]\n",
    "print(number_5)"
   ]
  },
  {
   "cell_type": "code",
   "execution_count": null,
   "id": "e1072fb9",
   "metadata": {},
   "outputs": [],
   "source": []
  },
  {
   "cell_type": "code",
   "execution_count": null,
   "id": "992e0ed8",
   "metadata": {},
   "outputs": [],
   "source": []
  },
  {
   "cell_type": "code",
   "execution_count": null,
   "id": "8d9d0236",
   "metadata": {},
   "outputs": [],
   "source": []
  }
 ],
 "metadata": {
  "kernelspec": {
   "display_name": "Python 3",
   "language": "python",
   "name": "python3"
  },
  "language_info": {
   "codemirror_mode": {
    "name": "ipython",
    "version": 3
   },
   "file_extension": ".py",
   "mimetype": "text/x-python",
   "name": "python",
   "nbconvert_exporter": "python",
   "pygments_lexer": "ipython3",
   "version": "3.8.8"
  }
 },
 "nbformat": 4,
 "nbformat_minor": 5
}
